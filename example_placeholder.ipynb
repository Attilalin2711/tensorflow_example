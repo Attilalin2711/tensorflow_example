{
  "cells": [
    {
      "cell_type": "code",
      "execution_count": 7,
      "metadata": {
        "collapsed": true,
        "pycharm": {
          "is_executing": false
        }
      },
      "outputs": [
        {
          "name": "stdout",
          "text": [
            "Tensor(\"MatMul_4:0\", shape\u003d(2, 2), dtype\u003dfloat32)\n"
          ],
          "output_type": "stream"
        }
      ],
      "source": [
        "import tensorflow as tf\n",
        "import numpy as np\n",
        "x \u003d tf.placeholder(tf.float32 ,shape\u003d[2,3])\n",
        "y \u003d tf.reshape(x,[3,2]) #將tensor x 變換為參數shape的形式\n",
        "z \u003d tf.matmul(x,y)\n",
        "print(z)"
      ]
    },
    {
      "cell_type": "code",
      "execution_count": 8,
      "metadata": {
        "pycharm": {
          "is_executing": false
        }
      },
      "outputs": [
        {
          "name": "stdout",
          "text": [
            "[[1.3354838  0.9986993 ]\n [0.96065694 0.69229543]]\n"
          ],
          "output_type": "stream"
        }
      ],
      "source": "with tf.Session() as sess:\n    rand_array_x \u003d np.random.rand(2,3)\n    #rand_array_y \u003d np.random.rand(3,2)\n    #numpy.random.randn(d0,d1,....,dn)--\u003e從標準常態分佈返回一個或多個樣本值\n    #numpy.random.rand(d0,d1,....,dn)--\u003e從[0,1]之間返回一個或多個樣本值\n    print(sess.run(z, feed_dict\u003d{x: rand_array_x}))\n"
    }
  ],
  "metadata": {
    "kernelspec": {
      "name": "python3",
      "language": "python",
      "display_name": "Python 3"
    },
    "language_info": {
      "codemirror_mode": {
        "name": "ipython",
        "version": 2
      },
      "file_extension": ".py",
      "mimetype": "text/x-python",
      "name": "python",
      "nbconvert_exporter": "python",
      "pygments_lexer": "ipython2",
      "version": "2.7.6"
    }
  },
  "nbformat": 4,
  "nbformat_minor": 0
}