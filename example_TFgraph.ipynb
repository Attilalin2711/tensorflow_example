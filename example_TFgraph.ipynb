{
  "cells": [
    {
      "cell_type": "code",
      "execution_count": 1,
      "metadata": {
        "collapsed": true,
        "pycharm": {
          "is_executing": false
        }
      },
      "outputs": [
        {
          "name": "stdout",
          "text": [
            "\u003ctensorflow.python.framework.ops.Graph object at 0x0000027032C1CBA8\u003e\n\u003ctensorflow.python.framework.ops.Graph object at 0x0000027032C1CBA8\u003e\n----\n"
          ],
          "output_type": "stream"
        }
      ],
      "source": "import tensorflow as tf\n#定義op\na \u003d tf.constant(2, name\u003d\u0027input_a\u0027)\nb \u003d tf.constant(4, name\u003d\u0027input_b\u0027)\nc \u003d tf.multiply(a, b, name\u003d\u0027mul_c\u0027 )\nd \u003d tf.add(a,b,name\u003d\u0027add_d\u0027)\ne \u003d tf.add(c,d,name\u003d\u0027add_e\u0027)\nprint(a.graph)  # 印出tensor a所在的默認圖內存位址\nprint(tf.get_default_graph()) # tf.得到當前程序默認圖的內存地址\nassert a.graph \u003d\u003d tf.get_default_graph() \n#確定程序默認圖的位址與op所在的計算圖位置相同,屬斷言語句\nprint(\u0027----\u0027)"
    },
    {
      "cell_type": "code",
      "execution_count": 2,
      "metadata": {
        "pycharm": {
          "is_executing": false
        }
      },
      "outputs": [
        {
          "name": "stdout",
          "text": [
            "14\n\u003ctensorflow.python.framework.ops.Graph object at 0x0000027032C1CBA8\u003e\n"
          ],
          "output_type": "stream"
        }
      ],
      "source": "with tf.Session() as sess:\n    output \u003d sess.run(e)\nprint(output)\nprint(sess.graph)"
    },
    {
      "cell_type": "code",
      "execution_count": 3,
      "metadata": {
        "pycharm": {
          "is_executing": false
        }
      },
      "outputs": [],
      "source": "write \u003d tf.summary.FileWriter(\u0027home/feigu/tmp\u0027, sess.graph)\nwrite.close()\nsess.close()\n"
    }
  ],
  "metadata": {
    "kernelspec": {
      "name": "python3",
      "language": "python",
      "display_name": "Python 3"
    },
    "language_info": {
      "codemirror_mode": {
        "name": "ipython",
        "version": 2
      },
      "file_extension": ".py",
      "mimetype": "text/x-python",
      "name": "python",
      "nbconvert_exporter": "python",
      "pygments_lexer": "ipython2",
      "version": "2.7.6"
    }
  },
  "nbformat": 4,
  "nbformat_minor": 0
}