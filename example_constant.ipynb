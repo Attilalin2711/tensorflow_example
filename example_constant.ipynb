{
 "cells": [
  {
   "cell_type": "code",
   "execution_count": 1,
   "metadata": {
    "collapsed": true
   },
   "outputs": [],
   "source": [
    "import tensorflow as tf"
   ]
  },
  {
   "cell_type": "code",
   "execution_count": 7,
   "metadata": {},
   "outputs": [],
   "source": [
    "a = tf.constant(1.,name=\"a\")\n",
    "b = tf.constant(([2,3],[3,2]),shape=[2,2],name=\"b\") \n",
    "##指定程度shape[2,2]\n",
    "c = tf.constant([2,3],shape=[2,2],name=\"c\")  \n",
    "##列表長度小於指定大小,多餘的空間由最後一個元素補充"
   ]
  },
  {
   "cell_type": "code",
   "execution_count": 8,
   "metadata": {},
   "outputs": [],
   "source": [
    "sess = tf.Session()"
   ]
  },
  {
   "cell_type": "code",
   "execution_count": 9,
   "metadata": {},
   "outputs": [
    {
     "name": "stdout",
     "output_type": "stream",
     "text": [
      "result_a: 1.0\nreuslt_b: [[2 3]\n [3 2]]\nresult_c [[2 3]\n [3 3]]\n"
     ]
    }
   ],
   "source": [
    "result_a = sess.run([a,b,c])\n",
    "print(\"result_a:\",result_a[0])\n",
    "print(\"reuslt_b:\",result_a[1])\n",
    "print(\"result_c\",result_a[2])"
   ]
  },
  {
   "cell_type": "code",
   "execution_count": null,
   "metadata": {},
   "outputs": [],
   "source": []
  }
 ],
 "metadata": {
  "kernelspec": {
   "display_name": "Python 2",
   "language": "python",
   "name": "python2"
  },
  "language_info": {
   "codemirror_mode": {
    "name": "ipython",
    "version": 2
   },
   "file_extension": ".py",
   "mimetype": "text/x-python",
   "name": "python",
   "nbconvert_exporter": "python",
   "pygments_lexer": "ipython2",
   "version": "2.7.6"
  }
 },
 "nbformat": 4,
 "nbformat_minor": 0
}
