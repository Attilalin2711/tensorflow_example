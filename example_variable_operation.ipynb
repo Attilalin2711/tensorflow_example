{
 "cells": [
  {
   "cell_type": "code",
   "execution_count": 6,
   "metadata": {
    "collapsed": true
   },
   "outputs": [],
   "source": [
    "#創建模型的weights and biases\n",
    "import tensorflow as tf\n",
    "weights = tf.Variable(tf.random.normal([784,200], stddev= 0.35), name=\"weights\")\n",
    "biases = tf.Variable(tf.zeros([200]), name=\"biases\")"
   ]
  },
  {
   "cell_type": "code",
   "execution_count": 7,
   "metadata": {},
   "outputs": [
    {
     "name": "stdout",
     "output_type": "stream",
     "text": [
      "weights [[-0.559423    0.58748156  0.22725742 ... -0.3169009  -0.57661384\n   0.23316751]\n [-0.47109383 -0.25834066  0.10545185 ...  0.374768   -0.75711185\n  -0.04098494]\n [-0.12962508  0.40387952 -0.38480967 ... -0.02880722  0.01506714\n   0.21748036]\n ...\n [ 0.23305319 -0.19143303 -0.3712464  ...  0.55413216 -0.7784011\n   0.2735453 ]\n [ 0.04650826  0.07480902 -0.25304678 ... -0.05260551 -0.02541527\n  -0.05883197]\n [-0.49635747  0.67390186  0.20100887 ... -0.42157048 -0.37011042\n   0.37968987]]\nbiases [0. 0. 0. 0. 0. 0. 0. 0. 0. 0. 0. 0. 0. 0. 0. 0. 0. 0. 0. 0. 0. 0. 0. 0.\n 0. 0. 0. 0. 0. 0. 0. 0. 0. 0. 0. 0. 0. 0. 0. 0. 0. 0. 0. 0. 0. 0. 0. 0.\n 0. 0. 0. 0. 0. 0. 0. 0. 0. 0. 0. 0. 0. 0. 0. 0. 0. 0. 0. 0. 0. 0. 0. 0.\n 0. 0. 0. 0. 0. 0. 0. 0. 0. 0. 0. 0. 0. 0. 0. 0. 0. 0. 0. 0. 0. 0. 0. 0.\n 0. 0. 0. 0. 0. 0. 0. 0. 0. 0. 0. 0. 0. 0. 0. 0. 0. 0. 0. 0. 0. 0. 0. 0.\n 0. 0. 0. 0. 0. 0. 0. 0. 0. 0. 0. 0. 0. 0. 0. 0. 0. 0. 0. 0. 0. 0. 0. 0.\n 0. 0. 0. 0. 0. 0. 0. 0. 0. 0. 0. 0. 0. 0. 0. 0. 0. 0. 0. 0. 0. 0. 0. 0.\n 0. 0. 0. 0. 0. 0. 0. 0. 0. 0. 0. 0. 0. 0. 0. 0. 0. 0. 0. 0. 0. 0. 0. 0.\n 0. 0. 0. 0. 0. 0. 0. 0.]\nSave to path: save/model.ckpt\n"
     ]
    }
   ],
   "source": [
    "#初始化Variable\n",
    "#初始化所有Variable->在定義graph時定義global_variables_initializer\n",
    "#                                            ->session運算時初始化所有變量\n",
    "#初始化部分Variable->tf.variables_initizlizer\n",
    "init_op = tf.global_variables_initializer()\n",
    "aver = tf.train.Saver()\n",
    "with tf.Session() as sess:\n",
    "    sess.run(init_op)\n",
    "    print(\"weights\",sess.run(weights))\n",
    "    print(\"biases\",sess.run(biases))\n",
    "    saver_path = saver.save(sess, 'save/model.ckpt')\n",
    "    print(\"Save to path:\",saver_path)"
   ]
  },
  {
   "cell_type": "code",
   "execution_count": 18,
   "metadata": {},
   "outputs": [
    {
     "name": "stdout",
     "output_type": "stream",
     "text": [
      "INFO:tensorflow:Restoring parameters from ./save\\model.ckpt\n"
     ]
    },
    {
     "name": "stdout",
     "output_type": "stream",
     "text": [
      "[0. 0. 0. 0. 0. 0. 0. 0. 0. 0. 0. 0. 0. 0. 0. 0. 0. 0. 0. 0. 0. 0. 0. 0.\n 0. 0. 0. 0. 0. 0. 0. 0. 0. 0. 0. 0. 0. 0. 0. 0. 0. 0. 0. 0. 0. 0. 0. 0.\n 0. 0. 0. 0. 0. 0. 0. 0. 0. 0. 0. 0. 0. 0. 0. 0. 0. 0. 0. 0. 0. 0. 0. 0.\n 0. 0. 0. 0. 0. 0. 0. 0. 0. 0. 0. 0. 0. 0. 0. 0. 0. 0. 0. 0. 0. 0. 0. 0.\n 0. 0. 0. 0. 0. 0. 0. 0. 0. 0. 0. 0. 0. 0. 0. 0. 0. 0. 0. 0. 0. 0. 0. 0.\n 0. 0. 0. 0. 0. 0. 0. 0. 0. 0. 0. 0. 0. 0. 0. 0. 0. 0. 0. 0. 0. 0. 0. 0.\n 0. 0. 0. 0. 0. 0. 0. 0. 0. 0. 0. 0. 0. 0. 0. 0. 0. 0. 0. 0. 0. 0. 0. 0.\n 0. 0. 0. 0. 0. 0. 0. 0. 0. 0. 0. 0. 0. 0. 0. 0. 0. 0. 0. 0. 0. 0. 0. 0.\n 0. 0. 0. 0. 0. 0. 0. 0.]\n"
     ]
    }
   ],
   "source": [
    "#恢復模型變量\n",
    "with tf.Session() as sess:\n",
    "    saver = tf.train.import_meta_graph('save/model.ckpt.meta')\n",
    "    saver.restore(sess,tf.train.latest_checkpoint('./save'))\n",
    "    #首先import_meta_graph，這裡填的名字meta檔案的名字。\n",
    "    #restore時，是檢查checkpoint，所以只填到checkpoint所在的路徑下即可\n",
    "    #不需要填checkpoint，不然會報錯“ValueError: Can’t load save_path when it is None.”\n",
    "    print(sess.run('biases:0'))"
   ]
  },
  {
   "cell_type": "code",
   "execution_count": 19,
   "metadata": {},
   "outputs": [],
   "source": [
    ""
   ]
  },
  {
   "cell_type": "code",
   "execution_count": null,
   "metadata": {},
   "outputs": [],
   "source": []
  }
 ],
 "metadata": {
  "kernelspec": {
   "display_name": "Python 2",
   "language": "python",
   "name": "python2"
  },
  "language_info": {
   "codemirror_mode": {
    "name": "ipython",
    "version": 2
   },
   "file_extension": ".py",
   "mimetype": "text/x-python",
   "name": "python",
   "nbconvert_exporter": "python",
   "pygments_lexer": "ipython2",
   "version": "2.7.6"
  }
 },
 "nbformat": 4,
 "nbformat_minor": 0
}
