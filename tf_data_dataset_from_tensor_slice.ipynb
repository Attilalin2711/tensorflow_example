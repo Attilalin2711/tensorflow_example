{
  "cells": [
    {
      "cell_type": "code",
      "execution_count": 2,
      "metadata": {
        "collapsed": true,
        "pycharm": {
          "name": "#%%\n",
          "is_executing": false
        }
      },
      "outputs": [],
      "source": "\"\"\"一個Dataset 對象包含多個元素，每個元素的結構都相同。\n每個元素包含一個或多個tf.Tensor 對象，這些對像被稱為組件。\n每個組件都有tf.DType 屬性，表示Tensor 中元素的類型；以及tf.TensorShape 屬性\n，表示每個元素（可能部分指定）的靜態形狀。您可以通過Dataset.output_types 和\nDataset.output_shapes 屬性檢查數據集元素各個組件的類型和形狀。Dataset 的屬性由構成該Dataset 的元素的屬性映射得到\n，元素可以是單個張量、張量元組，也可以是張量的嵌套元組。例如：\"\"\"\nimport tensorflow as tf\nimport numpy as np"
    },
    {
      "cell_type": "code",
      "execution_count": 3,
      "outputs": [
        {
          "name": "stdout",
          "text": [
            "\u003cdtype: \u0027float32\u0027\u003e\n(10,)\n"
          ],
          "output_type": "stream"
        }
      ],
      "source": "#單個張量\n\"\"\"tf.random.uniform(\n    shape,\n    minval\u003d0,\n    maxval\u003dNone,\n    dtype\u003dtf.dtypes.float32,\n    seed\u003dNone,\n    name\u003dNone\nARGS：\nshape：1-D整數Tensor或Python數組。輸出張量的形狀。\nminval：類型的0-D Tensor或Python值dtype。要生成的隨機值範圍的下限。默認為0。\nmaxval：類型的0-D Tensor或Python值dtype。要生成的隨機值範圍的上限。如果dtype是浮點，則默認為1 。\ndtype：類型輸出的：float16，float32，float64，int32，或int64。\nseed：一個Python整數。用於為分發創建隨機種子。可看tf.set_random_seed 。\nname：操作的名稱（可選）。\n)\"\"\"\ndataset1 \u003d tf.data.Dataset.from_tensor_slices(tf.random.uniform([4,10]))\nprint(dataset1.output_types)\nprint(dataset1.output_shapes)",
      "metadata": {
        "pycharm": {
          "metadata": false,
          "name": "#%%\n",
          "is_executing": false
        }
      }
    },
    {
      "cell_type": "code",
      "execution_count": 4,
      "outputs": [
        {
          "name": "stdout",
          "text": [
            "(tf.float32, tf.int32)\n(TensorShape([]), TensorShape([Dimension(100)]))\n"
          ],
          "output_type": "stream"
        }
      ],
      "source": "#張量元組(張量,張量)\ndataset2 \u003d tf.data.Dataset.from_tensor_slices((tf.random.uniform([4]),\n                                              tf.random.uniform([4,100],maxval\u003d100,dtype\u003dtf.int32)))\nprint(dataset2.output_types)\nprint(dataset2.output_shapes)",
      "metadata": {
        "pycharm": {
          "metadata": false,
          "name": "#%%\n",
          "is_executing": false
        }
      }
    },
    {
      "cell_type": "code",
      "execution_count": 6,
      "outputs": [
        {
          "name": "stdout",
          "text": [
            "(tf.float32, (tf.float32, tf.int32))\n(TensorShape([Dimension(10)]), (TensorShape([]), TensorShape([Dimension(100)])))\n"
          ],
          "output_type": "stream"
        }
      ],
      "source": "#元組嵌套(元組,元組)\ndataset3 \u003d tf.data.Dataset.zip((dataset1,dataset2))\nprint(dataset3.output_types)\nprint(dataset3.output_shapes)",
      "metadata": {
        "pycharm": {
          "metadata": false,
          "name": "#%%\n",
          "is_executing": false
        }
      }
    },
    {
      "cell_type": "code",
      "execution_count": 10,
      "outputs": [
        {
          "name": "stdout",
          "text": [
            "{\u0027a\u0027: tf.float32, \u0027b\u0027: tf.int32}\n{\u0027a\u0027: TensorShape([]), \u0027b\u0027: TensorShape([Dimension(100)])}\n{\u0027a\u0027: \u003cclass \u0027tensorflow.python.framework.ops.Tensor\u0027\u003e, \u0027b\u0027: \u003cclass \u0027tensorflow.python.framework.ops.Tensor\u0027\u003e}\n"
          ],
          "output_type": "stream"
        }
      ],
      "source": "#Dataset中的元素的各個組件命名通常會帶來便利性（例如，元素的各個組件表示不同特徵時）。\n# 除了元組之外，還可以使用命名元組（collections.namedtuple）或字典來表示Dataset的單個元素\ndataset4 \u003d tf.data.Dataset.from_tensor_slices(\n    {\"a\":tf.random.uniform([4]),\n     \"b\":tf.random.uniform([4,100], maxval \u003d 100,dtype\u003d tf.int32)})\nprint(dataset4.output_types)\nprint(dataset4.output_shapes)\n\n\n",
      "metadata": {
        "pycharm": {
          "metadata": false,
          "name": "#%%\n",
          "is_executing": false
        }
      }
    }
  ],
  "metadata": {
    "language_info": {
      "codemirror_mode": {
        "name": "ipython",
        "version": 2
      },
      "file_extension": ".py",
      "mimetype": "text/x-python",
      "name": "python",
      "nbconvert_exporter": "python",
      "pygments_lexer": "ipython2",
      "version": "2.7.6"
    },
    "kernelspec": {
      "name": "python3",
      "language": "python",
      "display_name": "Python 3"
    }
  },
  "nbformat": 4,
  "nbformat_minor": 0
}