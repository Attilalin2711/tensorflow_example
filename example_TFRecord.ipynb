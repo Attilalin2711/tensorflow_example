{
  "cells": [
    {
      "cell_type": "code",
      "execution_count": 17,
      "metadata": {
        "collapsed": true,
        "pycharm": {
          "is_executing": false
        }
      },
      "outputs": [],
      "source": "\"\"\"\"\n寫入 TFRecord 檔案的標準做法是：\nstep 1. 把所有資料轉換成「tf.train.Feature」格式。\nstep 2. 把所有的「tf.train.Feature」包裝成「tf.train.Features」格式。\nstep 3. 把所有的「tf.train.Features」組合成「tf.train.Example」格式。\nstep 4. 利用「tf.python_io.TFRecordWriter」將「tf.train.Example」寫入成 TFRecord 檔案。\"\"\"\nimport os\nimport tensorflow as tf\nfrom PIL import Image\nimport numpy as np"
    },
    {
      "cell_type": "code",
      "execution_count": 21,
      "outputs": [],
      "source": "\"\"\"\n1.基礎數據格式\n三種基礎數據類型：bytes，float，int64\n\n對應tf.train中三種類型：BytesList (字符串列表), FloatList (浮點數列表), Int64List (64位整數列表)，構造它們三個依照下面的方式傳入相對應的value。\n\ntf.train.BytesList(value\u003d[context_idxs.tostring()]\ntf.train.Int64List(value\u003d[1,2])\ntf.train.FloatList(value\u003d[0.1,0.2])\n2.example協議格式\n要將我們的數據寫入.tfrecords 文件，需要將每一個樣本數據封裝為tf.train.Example格式，再將Example逐個寫入文件。Example格式中的數據基礎類型是tf.train.Feature\n\ntf.train.Feature(): 它的參數是BytesList, FloatList, Int64List三種\n---------------------\ntf.train.Feature(bytes_list\u003dtf.train.BytesList(value\u003d)\ntf.train.Feature(int64_list\u003dtf.train.Int64List(value\u003d)\ntf.train.Feature(float_list\u003dtf.train.FloatList(value\u003d)\n\ntf.train.Features: 它的參數是一個字典，kv對中v 的類型是Feature，對應每一個字段。\n---------------------\ntf.train.Features(feature\u003d{\n            \"k1\": tf.train.Feature(bytes_list\u003dtf.train.BytesList(value\u003d])),\n            \"k2\": tf.train.Feature(bytes_list\u003dtf.train.BytesList(value\u003d)),\n            \"k3\": tf.train.Feature(float_list\u003dtf.train.FloatList(value\u003d)),\n        })\n        \n在這裡,要將影像儲存為二進制資料, 影像標籤儲存成整數資料\n\n\"\"\"\ndef _int64_feature(value):\n    return tf.train.Feature(int64_list \u003d tf.train.Int64List(value \u003d [value]))\ndef _bytes_feature(value):\n    return tf.train.Feature(bytes_list \u003d tf.train.BytesList(value \u003d [value]))",
      "metadata": {
        "pycharm": {
          "metadata": false,
          "name": "#%%\n",
          "is_executing": false
        }
      }
    },
    {
      "cell_type": "code",
      "execution_count": 22,
      "outputs": [],
      "source": "#設定影像標籤,標籤名稱與對應子目錄相同\nfolder \u003d \u0027C:/Users/User/Desktop/image/\u0027\nlabel \u003d {\u0027alphabat\u0027,\u0027brain\u0027} \n",
      "metadata": {
        "pycharm": {
          "metadata": false,
          "name": "#%%\n",
          "is_executing": false
        }
      }
    },
    {
      "cell_type": "code",
      "execution_count": 19,
      "outputs": [],
      "source": "#通過writer來寫TFRecord文件\nwriter \u003d tf.python_io.TFRecordWriter(folder+\u0027alphabat_brain.tfrecords\u0027)\n",
      "metadata": {
        "pycharm": {
          "metadata": false,
          "name": "#%%\n",
          "is_executing": false
        }
      }
    },
    {
      "cell_type": "code",
      "execution_count": 20,
      "outputs": [
        {
          "name": "stdout",
          "text": [
            "9\n"
          ],
          "output_type": "stream"
        }
      ],
      "source": "#紀錄影像個數,使用enumerate遍歷label\ncount \u003d 0  #紀錄影像數,方便確認\nfor index, name in enumerate(label):\n    folder_path \u003d folder +name +\u0027/\u0027\n    #os.listdir() 方法用於返回指定的文件夾包含的文件或文件夾的名字的列表。這個列表以字母順序\n    for img_name in os.listdir(folder_path): \n        img_path \u003d folder_path + img_name #每一張影像的完整路徑\n        img \u003d Image.open(img_path)##開檔\n        img \u003d img.resize((128,128))\n        img_raw \u003d img.tobytes()#將影像轉為二進制\n        example \u003d tf.train.Example(\n            features \u003d tf.train.Features(\n                feature \u003d {\n            \u0027label\u0027:tf.train.Feature(int64_list \u003d tf.train.Int64List(value\u003d[index])),\n            \u0027img_raw\u0027:tf.train.Feature(bytes_list \u003d tf.train.BytesList(value \u003d [img_raw]))\n        })) #example對象對label,image數據進行封裝\n        writer.write(example.SerializeToString())\n        count \u003d count + 1\nwriter.close()\nprint(count)    \n\n\n",
      "metadata": {
        "pycharm": {
          "metadata": false,
          "name": "#%%\n",
          "is_executing": false
        }
      }
    }
  ],
  "metadata": {
    "language_info": {
      "codemirror_mode": {
        "name": "ipython",
        "version": 2
      },
      "file_extension": ".py",
      "mimetype": "text/x-python",
      "name": "python",
      "nbconvert_exporter": "python",
      "pygments_lexer": "ipython2",
      "version": "2.7.6"
    },
    "kernelspec": {
      "name": "python3",
      "language": "python",
      "display_name": "Python 3"
    },
    "stem_cell": {
      "cell_type": "raw",
      "source": "",
      "metadata": {
        "pycharm": {
          "metadata": false
        }
      }
    }
  },
  "nbformat": 4,
  "nbformat_minor": 0
}