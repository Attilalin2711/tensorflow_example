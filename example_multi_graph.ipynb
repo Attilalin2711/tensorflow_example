{
  "cells": [
    {
      "cell_type": "code",
      "execution_count": 1,
      "metadata": {
        "collapsed": true,
        "pycharm": {
          "is_executing": false
        }
      },
      "outputs": [],
      "source": "#宣告兩個圖g1,g2 還有一個tensor c0\nimport tensorflow as tf\ng1 \u003d tf.Graph()\ng2 \u003d tf.Graph()\nc0 \u003d tf.constant(0.0)"
    },
    {
      "cell_type": "code",
      "execution_count": 2,
      "outputs": [],
      "source": "with g1.as_default(): ##將g1設置為默認圖,並加入tensor\n    c1 \u003d tf.constant(1.0)\nwith tf.Graph().as_default() as g2: ##將g2設為默認圖,加入tensor\n    c2 \u003d tf.constant(2.0)\n##到此為止,我們擁有默認圖還有另外宣告兩個圖g1 g2    ",
      "metadata": {
        "pycharm": {
          "metadata": false,
          "name": "#%%\n",
          "is_executing": false
        }
      }
    },
    {
      "cell_type": "code",
      "execution_count": 3,
      "outputs": [
        {
          "name": "stdout",
          "text": [
            "0.0\n1.0\n2.0\n"
          ],
          "output_type": "stream"
        }
      ],
      "source": "with tf.Session() as sess: ##c0被添加在默認圖中  無須指名圖參數\n    assert c0.graph \u003d\u003d tf.get_default_graph()\n    print(sess.run(c0))\n    \nwith tf.Session(graph\u003dg1) as sess1:\n    assert c1.graph is g1\n    print(sess1.run(c1))\n    \nwith tf.Session(graph\u003dg2) as sess2:\n    assert c2.graph is g2\n    print(sess2.run(c2))\n#seesion可以視為提供operation執行與tensor求值的環境\n#如果創建Session時沒有指定Graph,該Session會自己加載\n#因此創建了多個Graph,需創建不同的Session來加載每個Graph\n#每個Graph可以加載在多個Session中計算,Session之間是相互獨立的",
      "metadata": {
        "pycharm": {
          "metadata": false,
          "name": "#%%\n",
          "is_executing": false
        }
      }
    }
  ],
  "metadata": {
    "language_info": {
      "codemirror_mode": {
        "name": "ipython",
        "version": 2
      },
      "file_extension": ".py",
      "mimetype": "text/x-python",
      "name": "python",
      "nbconvert_exporter": "python",
      "pygments_lexer": "ipython2",
      "version": "2.7.6"
    },
    "kernelspec": {
      "name": "python3",
      "language": "python",
      "display_name": "Python 3"
    }
  },
  "nbformat": 4,
  "nbformat_minor": 0
}