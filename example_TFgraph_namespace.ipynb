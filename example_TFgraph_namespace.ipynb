{
  "cells": [
    {
      "cell_type": "code",
      "execution_count": 1,
      "metadata": {
        "collapsed": true,
        "pycharm": {
          "is_executing": false
        }
      },
      "outputs": [],
      "source": "import tensorflow as tf\ngraph \u003d tf.Graph()"
    },
    {
      "cell_type": "code",
      "execution_count": 2,
      "outputs": [],
      "source": "with graph.as_default():\n    in_1 \u003d tf.placeholder(tf.float32, shape\u003d[],name\u003d\u0027imput_a\u0027)\n    in_2 \u003d tf.placeholder(tf.float32, shape\u003d[],name\u003d\u0027imput_b\u0027)\n    const \u003d tf.constant(3,dtype\u003dtf.float32,name\u003d\u0027static_value\u0027)\n    with tf.name_scope(\u0027Transformation\u0027):\n        with tf.name_scope(\u0027A\u0027):\n            A_mul \u003d tf.multiply(in_1,const)\n            A_out \u003d tf.subtract(A_mul,in_1)\n        with tf.name_scope(\u0027B\u0027):\n            B_mal \u003d tf.multiply(in_2, const)\n            B_out \u003d tf.subtract(B_mal,in_2)\n        with tf.name_scope(\u0027C\u0027):\n            C_div \u003d tf.div(A_out,B_out)\n            C_out \u003d tf.add(C_div, const)\n        with tf.name_scope(\u0027D\u0027):\n            D_div \u003d tf.div(B_out,A_out)\n            D_out \u003d tf.add(D_div, const)\n            out \u003d tf.maximum(C_out,D_out)",
      "metadata": {
        "pycharm": {
          "metadata": false,
          "name": "#%%\n",
          "is_executing": false
        }
      }
    },
    {
      "cell_type": "code",
      "execution_count": 3,
      "outputs": [],
      "source": "write \u003d tf.summary.FileWriter(\u0027home/graph\u0027, graph\u003dgraph)\nwrite.close()\n",
      "metadata": {
        "pycharm": {
          "metadata": false,
          "name": "#%%\n",
          "is_executing": false
        }
      }
    }
  ],
  "metadata": {
    "language_info": {
      "codemirror_mode": {
        "name": "ipython",
        "version": 2
      },
      "file_extension": ".py",
      "mimetype": "text/x-python",
      "name": "python",
      "nbconvert_exporter": "python",
      "pygments_lexer": "ipython2",
      "version": "2.7.6"
    },
    "kernelspec": {
      "name": "python3",
      "language": "python",
      "display_name": "Python 3"
    }
  },
  "nbformat": 4,
  "nbformat_minor": 0
}