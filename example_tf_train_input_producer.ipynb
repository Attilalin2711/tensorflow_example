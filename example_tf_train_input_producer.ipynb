{
  "cells": [
    {
      "cell_type": "code",
      "execution_count": 1,
      "outputs": [],
      "source": "# 导入tensorflow\nimport tensorflow as tf ",
      "metadata": {
        "pycharm": {
          "metadata": false,
          "name": "#%%\n",
          "is_executing": false
        }
      }
    },
    {
      "cell_type": "code",
      "execution_count": 2,
      "outputs": [],
      "source": "# 全部要讀取的文件名\nfilename \u003d [\u0027A.jpg\u0027, \u0027B.jpg\u0027, \u0027C.jpg\u0027]\n# 產生文件名隊列",
      "metadata": {
        "pycharm": {
          "metadata": false,
          "name": "#%%\n",
          "is_executing": false
        }
      }
    },
    {
      "cell_type": "code",
      "execution_count": 3,
      "outputs": [
        {
          "name": "stdout",
          "text": [
            "WARNING:tensorflow:From \u003cipython-input-3-98acc20640d4\u003e:3: string_input_producer (from tensorflow.python.training.input) is deprecated and will be removed in a future version.\nInstructions for updating:\nQueue-based input pipelines have been replaced by `tf.data`. Use `tf.data.Dataset.from_tensor_slices(string_tensor).shuffle(tf.shape(input_tensor, out_type\u003dtf.int64)[0]).repeat(num_epochs)`. If `shuffle\u003dFalse`, omit the `.shuffle(...)`.\n",
            "WARNING:tensorflow:From D:\\Anaconda\\envs\\MLlearning\\lib\\site-packages\\tensorflow\\python\\training\\input.py:276: input_producer (from tensorflow.python.training.input) is deprecated and will be removed in a future version.\nInstructions for updating:\nQueue-based input pipelines have been replaced by `tf.data`. Use `tf.data.Dataset.from_tensor_slices(input_tensor).shuffle(tf.shape(input_tensor, out_type\u003dtf.int64)[0]).repeat(num_epochs)`. If `shuffle\u003dFalse`, omit the `.shuffle(...)`.\n",
            "WARNING:tensorflow:From D:\\Anaconda\\envs\\MLlearning\\lib\\site-packages\\tensorflow\\python\\training\\input.py:188: limit_epochs (from tensorflow.python.training.input) is deprecated and will be removed in a future version.\nInstructions for updating:\nQueue-based input pipelines have been replaced by `tf.data`. Use `tf.data.Dataset.from_tensors(tensor).repeat(num_epochs)`.\n",
            "WARNING:tensorflow:From D:\\Anaconda\\envs\\MLlearning\\lib\\site-packages\\tensorflow\\python\\training\\input.py:197: QueueRunner.__init__ (from tensorflow.python.training.queue_runner_impl) is deprecated and will be removed in a future version.\nInstructions for updating:\nTo construct input pipelines, use the `tf.data` module.\n",
            "WARNING:tensorflow:From D:\\Anaconda\\envs\\MLlearning\\lib\\site-packages\\tensorflow\\python\\training\\input.py:197: add_queue_runner (from tensorflow.python.training.queue_runner_impl) is deprecated and will be removed in a future version.\nInstructions for updating:\nTo construct input pipelines, use the `tf.data` module.\n",
            "WARNING:tensorflow:From \u003cipython-input-3-98acc20640d4\u003e:7: WholeFileReader.__init__ (from tensorflow.python.ops.io_ops) is deprecated and will be removed in a future version.\nInstructions for updating:\nQueue-based input pipelines have been replaced by `tf.data`. Use `tf.data.Dataset.map(tf.read_file)`.\n"
          ],
          "output_type": "stream"
        }
      ],
      "source": "filename_queue \u003d tf.train.string_input_producer(filename, \n                                                shuffle\u003dFalse, \n                                                num_epochs\u003d1)\n\n# 數據讀取器，不要用錯囉！\n#reader \u003d tf.TFRecordReader()\nreader \u003d tf.WholeFileReader()\nkey, value \u003d reader.read(filename_queue)",
      "metadata": {
        "pycharm": {
          "metadata": false,
          "name": "#%%\n",
          "is_executing": false
        }
      }
    },
    {
      "cell_type": "code",
      "execution_count": null,
      "outputs": [
        {
          "name": "stdout",
          "text": [
            "WARNING:tensorflow:From \u003cipython-input-4-aa6cf2427cda\u003e:10: start_queue_runners (from tensorflow.python.training.queue_runner_impl) is deprecated and will be removed in a future version.\nInstructions for updating:\nTo construct input pipelines, use the `tf.data` module.\n"
          ],
          "output_type": "stream"
        }
      ],
      "source": "with tf.Session() as sess:\n    # 初始化是必要的動作\n    sess.run(tf.global_variables_initializer())\n    sess.run(tf.local_variables_initializer())\n    \n    # 建立執行緒協調器\n    coord \u003d tf.train.Coordinator()\n    \n    # 啟動文件隊列，開始讀取文件\n    threads \u003d tf.train.start_queue_runners(coord\u003dcoord)\n\n    count \u003d 0\n    \n    try:\n        while not coord.should_stop():\n\n            # 這邊讀檔\n            image_data \u003d sess.run(value)\n            \n            # 這邊寫檔\n            # 請注意，因為 WholeFileReader 讀進來的是二進制檔，\n            # 輸出的時候也要使用二進制的方式。\n            with open(\u0027read/test_%d.jpg\u0027 % count, \u0027wb\u0027) as f:\n                f.write(image_data)\n                count +\u003d 1\n                \n    except tf.errors.OutOfRangeError:\n            print(\u0027Done!\u0027)\n\n    finally:\n        # 最後要記得把文件隊列關掉\n        coord.request_stop()\n    \n    coord.join(threads)\n",
      "metadata": {
        "pycharm": {
          "metadata": false,
          "name": "#%%\n",
          "is_executing": true
        }
      }
    }
  ],
  "metadata": {
    "language_info": {
      "codemirror_mode": {
        "name": "ipython",
        "version": 2
      },
      "file_extension": ".py",
      "mimetype": "text/x-python",
      "name": "python",
      "nbconvert_exporter": "python",
      "pygments_lexer": "ipython2",
      "version": "2.7.6"
    },
    "kernelspec": {
      "name": "python3",
      "language": "python",
      "display_name": "Python 3"
    },
    "stem_cell": {
      "cell_type": "raw",
      "source": "",
      "metadata": {
        "pycharm": {
          "metadata": false
        }
      }
    }
  },
  "nbformat": 4,
  "nbformat_minor": 0
}